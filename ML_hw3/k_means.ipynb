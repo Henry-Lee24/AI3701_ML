{
 "cells": [
  {
   "cell_type": "code",
   "execution_count": 115,
   "metadata": {},
   "outputs": [],
   "source": [
    "import numpy as np\n",
    "import pandas as pd\n",
    "import math \n",
    "import random"
   ]
  },
  {
   "cell_type": "code",
   "execution_count": 116,
   "metadata": {},
   "outputs": [],
   "source": [
    "#欧式距离\n",
    "def distance(vec1,vec2):\n",
    "    return np.sqrt(np.sum((vec1-vec2)**2))\n"
   ]
  },
  {
   "cell_type": "code",
   "execution_count": 117,
   "metadata": {},
   "outputs": [],
   "source": [
    "#设置K个间距最大的随机中心\n",
    "def randCenter(data, k):\n",
    "    m,n = data.shape\n",
    "    center = np.zeros((k,n))\n",
    "    maxdist = []\n",
    "    maxnum = []\n",
    "    for i in range(k):\n",
    "        maxdist.append(0)\n",
    "        maxnum.append(0)\n",
    "    ## i为中心点索引\n",
    "    #print(maxnum)\n",
    "    for i in range(k):\n",
    "        #第一个点随意设\n",
    "        if i==0:\n",
    "            index = int(np.random.uniform(0,m))\n",
    "            center[0,:] = data[index,:]\n",
    "            print(index)\n",
    "        #之后的初始点设置成与之前的点间距最大的那个\n",
    "        else:\n",
    "            for j in range(m):\n",
    "                tmp = 0\n",
    "                nowdist = 0\n",
    "                while tmp < i:\n",
    "                    #与之前设置的所有质心距离之和\n",
    "                    nowdist = nowdist + distance(center[tmp,:], data[j,:])\n",
    "                    tmp =tmp+1\n",
    "                    #print(nowdist)\n",
    "                #若之前已经设成初始质心，则不再重复记录\n",
    "                if j in maxnum:\n",
    "                    nowdist = 0\n",
    "                if nowdist > maxdist[i]:\n",
    "                    maxdist[i] = nowdist\n",
    "                    maxnum[i] = j\n",
    "            print(maxnum[i])\n",
    "            center[i,:] = data[maxnum[i],:]\n",
    "    return center        \n",
    "            #print(center[i,:]) \n",
    "    #print(center)\n",
    "    \n",
    "    "
   ]
  },
  {
   "cell_type": "code",
   "execution_count": 118,
   "metadata": {},
   "outputs": [],
   "source": [
    "def chosecent(data,k):\n",
    "    m,n = data.shape\n",
    "    center = np.zeros((5,n))\n",
    "    center[0,:] = data[78,:]\n",
    "    center[1,:] = data[540,:]\n",
    "    center[2,:] = data[558,:]\n",
    "    center[3,:] = data[574,:]\n",
    "    center[4,:] = data[610,:]\n",
    "    return center\n"
   ]
  },
  {
   "cell_type": "code",
   "execution_count": 119,
   "metadata": {},
   "outputs": [],
   "source": [
    "##Kmeans\n",
    "def Kmeans(data,k):\n",
    "    m,n = data.shape\n",
    "    #记录聚类后的所属类别\n",
    "    clustertabel = np.zeros((m,2)) \n",
    "    #设置聚类类别是否改变，作为循环终止的标志\n",
    "    clusterchange = True\n",
    "    #获得中心\n",
    "    center = chosecent(data,k)\n",
    "    while clusterchange:\n",
    "        clusterchange = False\n",
    "        #遍历每一个样本，得到其所属类别\n",
    "        for i in range(m):\n",
    "            mindistance = 100000\n",
    "            mincluster = -1\n",
    "            for j in range(k):\n",
    "                newdistance = distance(data[i,:], center[j, :])\n",
    "                newcluster = j\n",
    "                if newdistance < mindistance:\n",
    "                    mindistance = newdistance\n",
    "                    mincluster = newcluster\n",
    "            #若类别有更改则继续进入循环，并重新计算聚类中心\n",
    "            if mincluster != clustertabel[i,0]:\n",
    "                clusterchange = True\n",
    "                clustertabel[i,:] = mincluster,mindistance**2\n",
    "        for j in range(k):\n",
    "            pointsInCluster = data[np.nonzero(clustertabel[:,0] == j)[0]]  # 获取簇类所有的点\n",
    "            center[j,:] = np.mean(pointsInCluster,axis=0)   # 对矩阵的行求均值\n",
    "    return center, clustertabel"
   ]
  },
  {
   "cell_type": "code",
   "execution_count": 120,
   "metadata": {},
   "outputs": [
    {
     "name": "stdout",
     "output_type": "stream",
     "text": [
      "[0. 0. 0. 0. 0. 0. 0. 0. 0. 0. 0. 0. 0. 0. 0. 0. 0. 0. 0. 0. 0. 0. 0. 0.\n",
      " 0. 0. 0. 0. 0. 0. 0. 0. 0. 0. 0. 0. 0. 0. 0. 0. 0. 0. 0. 0. 0. 0. 0. 0.\n",
      " 0. 0. 0. 0. 0. 0. 0. 0. 0. 0. 0. 0. 0. 0. 0. 0. 0. 0. 0. 0. 0. 0. 0. 0.\n",
      " 0. 0. 0. 0. 0. 0. 0. 0. 0. 0. 0. 0. 0. 0. 0. 0. 0. 0. 0. 0. 0. 0. 0. 0.\n",
      " 0. 0. 0. 0. 0. 0. 0. 0. 0. 0. 0. 0. 0. 0. 0. 0. 0. 0. 0. 0. 0. 0. 0. 0.\n",
      " 0. 0. 0. 0. 0. 0. 0. 0. 0. 0. 0. 0. 0. 0. 0. 0. 0. 0. 0. 0. 0. 0. 0. 0.\n",
      " 0. 0. 0. 0. 0. 0. 0. 0. 0. 0. 0. 0. 0. 0. 0. 0. 0. 0. 0. 0. 0. 0. 0. 0.\n",
      " 0. 0. 0. 0. 0. 0. 0. 0. 0. 0. 0. 0. 0. 0. 0. 0. 0. 0. 0. 0. 0. 0. 0. 0.\n",
      " 0. 0. 0. 0. 0. 0. 0. 0. 0. 0. 0. 0. 0. 0. 0. 0. 0. 0. 0. 0. 0. 0. 0. 0.\n",
      " 0. 0. 0. 0. 0. 0. 0. 0. 0. 0. 0. 0. 0. 0. 0. 0. 0. 0. 0. 0. 0. 0. 0. 0.\n",
      " 0. 0. 0. 0. 0. 0. 0. 0. 0. 0. 0. 0. 0. 0. 0. 0. 0. 0. 0. 0. 0. 0. 0. 0.\n",
      " 0. 0. 0. 0. 0. 0. 0. 0. 0. 0. 0. 0. 0. 0. 0. 0. 0. 0. 0. 0. 0. 0. 0. 0.\n",
      " 0. 0. 0. 0. 0. 0. 0. 0. 0. 0. 0. 0. 0. 0. 0. 0. 0. 0. 0. 0. 0. 0. 0. 0.\n",
      " 0. 0. 0. 0. 0. 0. 0. 0. 0. 0. 0. 0. 0. 0. 0. 0. 0. 0. 0. 0. 0. 0. 0. 0.\n",
      " 0. 0. 0. 0. 0. 0. 0. 0. 0. 0. 0. 0. 0. 0. 0. 0. 0. 0. 0. 0. 0. 0. 0. 0.\n",
      " 0. 0. 0. 0. 0. 0. 0. 0. 0. 0. 0. 0. 0. 0. 0. 0. 0. 0. 0. 0. 0. 0. 0. 0.\n",
      " 0. 0. 0. 0. 0. 0. 0. 0. 0. 0. 0. 0. 0. 0. 0. 0. 0. 0. 0. 0. 0. 0. 0. 0.\n",
      " 0. 0. 0. 0. 0. 0. 0. 0. 0. 0. 0. 0. 0. 0. 0. 0. 0. 0. 0. 0. 0. 0. 0. 0.\n",
      " 0. 0. 0. 0. 0. 0. 0. 0. 0. 0. 0. 0. 0. 0. 0. 0. 0. 0. 0. 0. 0. 0. 0. 0.\n",
      " 0. 0. 0. 0. 0. 0. 0. 0. 0. 0. 0. 0. 0. 0. 0. 0. 0. 0. 0. 0. 0. 0. 0. 0.\n",
      " 0. 0. 0. 0. 0. 0. 0. 0. 0. 0. 0. 0. 0. 0. 0. 0. 0. 0. 0. 0. 0. 0. 0. 0.\n",
      " 0. 0. 0. 0. 0. 0. 0. 0. 0. 0. 0. 0. 0. 0. 0. 0. 0. 0. 0. 0. 0. 0. 0. 0.\n",
      " 0. 0. 0. 0. 0. 0. 0. 0. 0. 0. 0. 0. 0. 0. 0. 0. 0. 0. 0. 0. 0. 0. 0. 0.\n",
      " 0. 0. 0. 0. 0. 0. 0. 0. 0. 0. 0. 0. 0. 0. 0. 0. 0. 0. 0. 0. 0. 0. 0. 0.\n",
      " 0. 0. 0. 0. 0. 0. 0. 0. 0. 0. 0. 0. 0. 0. 0. 0. 0. 0. 0. 0. 0. 0. 0. 0.\n",
      " 0. 0. 0. 0. 0. 0. 0. 0. 0. 0. 0. 0. 0. 0. 0.]\n",
      "0.9479674796747968\n"
     ]
    },
    {
     "name": "stderr",
     "output_type": "stream",
     "text": [
      "d:\\Python_download\\lib\\site-packages\\numpy\\core\\fromnumeric.py:3474: RuntimeWarning: Mean of empty slice.\n",
      "  return _methods._mean(a, axis=axis, dtype=dtype,\n",
      "d:\\Python_download\\lib\\site-packages\\numpy\\core\\_methods.py:181: RuntimeWarning: invalid value encountered in true_divide\n",
      "  ret = um.true_divide(\n"
     ]
    }
   ],
   "source": [
    "##读取数据和主函数\n",
    "#columns = ['number','Category','Age','Sex','ALB','ALP','ALT','AST','BIL','CHE','CHOL','CREA','GGT','PROT']\n",
    "origin_data = pd.read_csv(\"./hcv_data.csv\", sep=',')\n",
    "#数据清洗，将male改成1，female改成0；用pad填充NAN值\n",
    "origin_data['Sex'] = origin_data['Sex'].map({'m':1,'f':0}).astype(int)\n",
    "origin_data['Category'] = origin_data['Category'].map({'0=Blood Donor':0, '0s=suspect Blood Donor':1, '1=Hepatitis' :2, '2=Fibrosis':3, '3=Cirrhosis':4})\n",
    "origin_data.fillna(method='pad',inplace=True)\n",
    "\n",
    "origin_data = np.array(origin_data)\n",
    "\n",
    "category = origin_data[:, 1]\n",
    "\n",
    "modify_data = origin_data[:,2:]\n",
    "#print(modify_data)\n",
    "m = modify_data.shape[0]\n",
    "#print(m)\n",
    "clustertabel = np.zeros((m,2))\n",
    "center, clustertabel = Kmeans(modify_data, 5)\n",
    "#print(center)\n",
    "# for i in range(m):\n",
    "#     if category[i] <2:\n",
    "#         category[i] = 0\n",
    "#     else :\n",
    "#         category[i] = 1\n",
    "#print(category)\n",
    "#print(clustertabel[:,0])\n",
    "print(category)\n",
    "yes = np.count_nonzero(clustertabel[:,0]==category)\n",
    "#print(yes)\n",
    "accuracy = yes/m\n",
    "print(accuracy)"
   ]
  }
 ],
 "metadata": {
  "kernelspec": {
   "display_name": "Python 3.8.10 64-bit",
   "language": "python",
   "name": "python3"
  },
  "language_info": {
   "codemirror_mode": {
    "name": "ipython",
    "version": 3
   },
   "file_extension": ".py",
   "mimetype": "text/x-python",
   "name": "python",
   "nbconvert_exporter": "python",
   "pygments_lexer": "ipython3",
   "version": "3.8.10"
  },
  "orig_nbformat": 4,
  "vscode": {
   "interpreter": {
    "hash": "8bfa012fa100a1ab38ee06395b62406ea71dbc68b66a3cb679668e56bc928b03"
   }
  }
 },
 "nbformat": 4,
 "nbformat_minor": 2
}
