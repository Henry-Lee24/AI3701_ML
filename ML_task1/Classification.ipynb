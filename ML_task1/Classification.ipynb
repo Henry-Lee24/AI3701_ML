{
 "cells": [
  {
   "cell_type": "code",
   "execution_count": 204,
   "metadata": {},
   "outputs": [],
   "source": [
    "import pandas as pd\n",
    "import numpy as np\n",
    "from matplotlib import pyplot as plt \n",
    "from sklearn.metrics import classification_report   #计算准确率召回率F1"
   ]
  },
  {
   "cell_type": "code",
   "execution_count": 205,
   "metadata": {},
   "outputs": [
    {
     "name": "stdout",
     "output_type": "stream",
     "text": [
      "[[5.]\n",
      " [5.]\n",
      " [5.]\n",
      " ...\n",
      " [6.]\n",
      " [6.]\n",
      " [7.]]\n"
     ]
    }
   ],
   "source": [
    "#数据处理\n",
    "data = pd.read_csv(\"./winequality-red.csv\", sep = ';')\n",
    "data = np.array(data)\n",
    "data = np.concatenate((np.ones((1599,1)),data),axis=1)  #加在行上\n",
    "# dd = data[:,-1]\n",
    "# dd = pd.Series(dd)\n",
    "# dd = dd.value_counts()\n",
    "# print(dd)\n",
    "train_data = data[0:1280,:]\n",
    "test_data = data[1280:1600,:]\n",
    "train_data_x = train_data[:,0:12]\n",
    "train_data_y = train_data[:,12:13]\n",
    "print(train_data_y)\n",
    "test_data_x = test_data[:,0:12]\n",
    "test_data_y = test_data[:,12:13]"
   ]
  },
  {
   "cell_type": "code",
   "execution_count": 206,
   "metadata": {},
   "outputs": [],
   "source": [
    "#初始化w，b\n",
    "def initial(dim):\n",
    "    w  = np.zeros((dim, 1))\n",
    "    b = 0\n",
    "    return w, b\n",
    "    #print(w)\n",
    "    #print(w.shape)\n",
    "\n",
    "def sigmoid(x):\n",
    "    return 1.0/(1+np.exp(-x))\n",
    "\n",
    "#initial(train_data_x.shape[1])\n",
    "def logistics(X, y, w, b):\n",
    "    num_of_data = X.shape[0]\n",
    "    num_of_feature = X.shape[1]\n",
    "    y_mat = sigmoid(np.dot(X, w)+ b)\n",
    "    loss_total = np.sum(y*np.log(y_mat)+(1-y)*np.log(1-y_mat))\n",
    "    loss_mean = -loss_total/num_of_data\n",
    "    dw = np.dot(X.T, y-y_mat)/num_of_data\n",
    "    db = sum(y-y_mat)/num_of_data\n",
    "    #print(loss_mean)\n",
    "    return y_mat, loss_mean, dw, db\n",
    "#w,b = initial(train_data_x.shape[1])\n",
    "#logistics(train_data_x,train_data_y,w,b)\n"
   ]
  },
  {
   "cell_type": "code",
   "execution_count": 207,
   "metadata": {},
   "outputs": [],
   "source": [
    "##训练\n",
    "def train(X, y, learning_rate=0.001, epochs=10000):\n",
    "    epochs_loss = []\n",
    "    w,b = initial(X.shape[1])\n",
    "    for i in range(epochs):\n",
    "        y_hat, loss, dw, db = logistics(X, y, w, b)\n",
    "        w += learning_rate*dw\n",
    "        b += learning_rate*db\n",
    "        epochs_loss.append(loss)\n",
    "        #if(i%5000 ==0):\n",
    "            #learning_rate = learning_rate/2.0\n",
    "            #print(learning_rate)\n",
    "    params = {'w':w, 'b':b}\n",
    "    grades = {'dw':dw, 'db':db}\n",
    "    return epochs_loss, params, grades\n",
    "    \n",
    "\n"
   ]
  },
  {
   "cell_type": "code",
   "execution_count": 208,
   "metadata": {},
   "outputs": [],
   "source": [
    "#预测\n",
    "def predict(X, params):\n",
    "    w = params['w']\n",
    "    b = params['b']\n",
    "    y_pre = sigmoid(np.dot(X, w)+b)\n",
    "    for i in range(len(y_pre)):\n",
    "        if y_pre[i]>0.5:\n",
    "            y_pre[i] = 1\n",
    "        else:\n",
    "            y_pre[i] =0\n",
    "    \n",
    "    return y_pre"
   ]
  },
  {
   "cell_type": "code",
   "execution_count": 209,
   "metadata": {},
   "outputs": [
    {
     "name": "stdout",
     "output_type": "stream",
     "text": [
      "              precision    recall  f1-score   support\n",
      "\n",
      "         0.0       0.80      0.61      0.69       159\n",
      "         1.0       0.69      0.84      0.76       160\n",
      "\n",
      "    accuracy                           0.73       319\n",
      "   macro avg       0.74      0.73      0.72       319\n",
      "weighted avg       0.74      0.73      0.72       319\n",
      "\n"
     ]
    },
    {
     "data": {
      "image/png": "[encoded data removed]",
      "text/plain": [
       "<Figure size 640x480 with 1 Axes>"
      ]
     },
     "metadata": {},
     "output_type": "display_data"
    }
   ],
   "source": [
    "##主函数\n",
    "#print(train_data_y)\n",
    "for i in range(len(train_data_y)):\n",
    "    if train_data_y[i] >=6:\n",
    "        train_data_y[i]=1\n",
    "    else:\n",
    "        train_data_y[i]=0\n",
    "for i in range(len(test_data_y)):\n",
    "    if test_data_y[i] >=6:\n",
    "        test_data_y[i]=1\n",
    "    else:\n",
    "        test_data_y[i]=0\n",
    "\n",
    "#print(train_data_y)\n",
    "# n = np.sum(train_data_y == 0)\n",
    "# print(n)\n",
    "learning_rate = 0.001\n",
    "ephochs = 100000\n",
    "train_loss, params, grads = train(train_data_x,train_data_y, learning_rate, ephochs)\n",
    "pre_train_data_y = predict(train_data_x, params)\n",
    "pre_data_y = predict(test_data_x, params)\n",
    "ephochs_list = np.arange(0, ephochs,1)\n",
    "train_loss = np.array(train_loss)\n",
    "plt.plot(ephochs_list, train_loss)\n",
    "plt.xlabel('Epochs')\n",
    "plt.ylabel('Cost')\n",
    "print(classification_report(test_data_y, pre_data_y))\n",
    "# n = np.sum(pre_data_y == 0)\n",
    "# print(n)\n",
    "#print(pre_data_y)\n",
    "#compare = np.concatenate((pre_data_y, test_data_y),axis=1)\n",
    "#print(compare)\n",
    "# count1 = 0\n",
    "# count2 = 0\n",
    "# for i in range(len(pre_train_data_y)):\n",
    "#     if train_data_y[i] == pre_train_data_y[i] :\n",
    "#         count1 = count1 +1\n",
    "# print(count1)\n",
    "# for i in range(len(pre_data_y)):\n",
    "#     if test_data_y[i] == pre_data_y[i] :\n",
    "#         count2 = count2 +1\n",
    "# print(count2)"
   ]
  }
 ],
 "metadata": {
  "kernelspec": {
   "display_name": "Python 3.8.10 64-bit",
   "language": "python",
   "name": "python3"
  },
  "language_info": {
   "codemirror_mode": {
    "name": "ipython",
    "version": 3
   },
   "file_extension": ".py",
   "mimetype": "text/x-python",
   "name": "python",
   "nbconvert_exporter": "python",
   "pygments_lexer": "ipython3",
   "version": "3.8.10 (tags/v3.8.10:3d8993a, May  3 2021, 11:48:03) [MSC v.1928 64 bit (AMD64)]"
  },
  "orig_nbformat": 4,
  "vscode": {
   "interpreter": {
    "hash": "8bfa012fa100a1ab38ee06395b62406ea71dbc68b66a3cb679668e56bc928b03"
   }
  }
 },
 "nbformat": 4,
 "nbformat_minor": 2
}
